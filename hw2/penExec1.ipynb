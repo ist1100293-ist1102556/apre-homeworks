{
 "cells": [
  {
   "cell_type": "code",
   "execution_count": 3,
   "metadata": {},
   "outputs": [],
   "source": [
    "import pandas as pd\n",
    "\n",
    "df = pd.read_csv(\"ex1.csv\") # Read the whole dataset\n",
    "df = df[:7] #Remove testing observations\n",
    "\n",
    "df_a, df_b = df.loc[df.y6 == \"A\"], df.loc[df.y6 == \"B\"] # Split based on y6"
   ]
  },
  {
   "cell_type": "code",
   "execution_count": 4,
   "metadata": {},
   "outputs": [],
   "source": [
    "import numpy as np\n",
    "\n",
    "# Compute means and covariance matrixes\n",
    "mean_a = [df_a.y1.mean(), df_a.y2.mean()]\n",
    "cov_a = np.cov(df_a[[\"y1\", \"y2\"]].T)\n",
    "mean_b = [df_b.y1.mean(), df_b.y2.mean()]\n",
    "cov_b = np.cov(df_b[[\"y1\", \"y2\"]].T)"
   ]
  },
  {
   "cell_type": "code",
   "execution_count": 5,
   "metadata": {},
   "outputs": [
    {
     "data": {
      "text/plain": [
       "1.4077448729004757e-28"
      ]
     },
     "execution_count": 5,
     "metadata": {},
     "output_type": "execute_result"
    }
   ],
   "source": [
    "from scipy import stats\n",
    "\n",
    "multnorm_a = stats.multivariate_normal(mean_a, cov_a)\n",
    "multnorm_b = stats.multivariate_normal(mean_b, cov_b)\n",
    "\n",
    "multnorm_a.pdf([1,2])\n",
    "multnorm_b.pdf([1,2])"
   ]
  }
 ],
 "metadata": {
  "kernelspec": {
   "display_name": "Python 3",
   "language": "python",
   "name": "python3"
  },
  "language_info": {
   "codemirror_mode": {
    "name": "ipython",
    "version": 3
   },
   "file_extension": ".py",
   "mimetype": "text/x-python",
   "name": "python",
   "nbconvert_exporter": "python",
   "pygments_lexer": "ipython3",
   "version": "3.10.12"
  },
  "orig_nbformat": 4
 },
 "nbformat": 4,
 "nbformat_minor": 2
}
