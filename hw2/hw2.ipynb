{
 "cells": [
  {
   "cell_type": "markdown",
   "metadata": {},
   "source": [
    "Considering the column_diagnosis.arff dataset available at the course webpage’s homework tab.\n",
    "Using sklearn, apply a 10-fold stratified cross-validation with shuffling (random_state=0) for the\n",
    "assessment of predictive models along this section."
   ]
  },
  {
   "cell_type": "code",
   "execution_count": 2,
   "metadata": {},
   "outputs": [],
   "source": [
    "import pandas as pd\n",
    "from scipy.io.arff import loadarff\n",
    "\n",
    "data = loadarff('data/column_diagnosis.arff')\n",
    "df = pd.DataFrame(data[0])\n",
    "df['class'] = df['class'].str.decode('utf-8')\n",
    "\n",
    "X, y = df.drop('class', axis=1), df['class']\n"
   ]
  },
  {
   "cell_type": "markdown",
   "metadata": {},
   "source": [
    "1) Compare the performance of 𝑘NN with 𝑘 = 5 and naïve Bayes with Gaussian assumption\n",
    "(consider all remaining parameters for each classifier as sklearn’s default):"
   ]
  },
  {
   "cell_type": "code",
   "execution_count": 3,
   "metadata": {},
   "outputs": [],
   "source": [
    "from sklearn.naive_bayes import GaussianNB\n",
    "from sklearn.neighbors import KNeighborsClassifier\n",
    "\n",
    "classifiers = [\n",
    "    (\"Gaussian Naive Bayes\", GaussianNB()),\n",
    "    (\"kNN\", KNeighborsClassifier(n_neighbors=5))\n",
    "]"
   ]
  },
  {
   "cell_type": "markdown",
   "metadata": {},
   "source": [
    "a. Plot two boxplots with the folds accuracies for each classifier."
   ]
  },
  {
   "cell_type": "code",
   "execution_count": 4,
   "metadata": {},
   "outputs": [
    {
     "name": "stdout",
     "output_type": "stream",
     "text": [
      "[0.94, 0.81, 0.87, 0.94, 0.74, 0.87, 0.84, 0.84, 0.77, 0.77]\n",
      "[0.84, 0.87, 0.84, 0.87, 0.77, 0.84, 0.9, 0.81, 0.77, 0.71]\n"
     ]
    }
   ],
   "source": [
    "from sklearn.model_selection import StratifiedKFold\n",
    "from sklearn import metrics\n",
    "\n",
    "folds = StratifiedKFold(n_splits=10, shuffle=True, random_state=0)\n",
    "\n",
    "knn_accs, nb_accs = [], []\n",
    "knn_predictor = KNeighborsClassifier(n_neighbors=5)\n",
    "nb_predictor = GaussianNB()\n",
    "\n",
    "for train_k, test_k in folds.split(X, y):\n",
    "    X_train, X_test = X.iloc[train_k], X.iloc[test_k]\n",
    "    y_train, y_test = y.iloc[train_k], y.iloc[test_k]\n",
    "\n",
    "    knn_predictor.fit(X_train, y_train)\n",
    "    nb_predictor.fit(X_train, y_train)\n",
    "\n",
    "    knn_pred = knn_predictor.predict(X_test)\n",
    "    nb_pred = nb_predictor.predict(X_test)\n",
    "\n",
    "    knn_accs.append(round(metrics.accuracy_score(y_test, knn_pred), 2))\n",
    "    nb_accs.append(round(metrics.accuracy_score(y_test, nb_pred), 2))\n",
    "\n",
    "print(knn_accs)\n",
    "print(nb_accs)"
   ]
  },
  {
   "cell_type": "code",
   "execution_count": 5,
   "metadata": {},
   "outputs": [
    {
     "data": {
      "image/png": "[encoded data removed]",
      "text/plain": [
       "<Figure size 640x480 with 1 Axes>"
      ]
     },
     "metadata": {},
     "output_type": "display_data"
    }
   ],
   "source": [
    "import seaborn as sns\n",
    "import matplotlib.pyplot as plt\n",
    "\n",
    "fold_accs_join = []\n",
    "\n",
    "fold_accs_join.extend(list(zip([\"kNN\" for i in range(10)], knn_accs)))\n",
    "fold_accs_join.extend(list(zip([\"Gaussian Naive Bayes\" for i in range(10)], nb_accs)))\n",
    "\n",
    "fold_accs_df = pd.DataFrame(fold_accs_join, columns=['Classifier', 'Accuracy'])\n",
    "\n",
    "sns.boxplot(x='Classifier', y='Accuracy', data=fold_accs_df)\n",
    "plt.show()"
   ]
  },
  {
   "cell_type": "markdown",
   "metadata": {},
   "source": [
    "b. Using scipy, test the hypothesis “𝑘NN is statistically superior to naïve Bayes regarding\n",
    "accuracy”, asserting whether is true."
   ]
  },
  {
   "cell_type": "code",
   "execution_count": 6,
   "metadata": {},
   "outputs": [
    {
     "name": "stdout",
     "output_type": "stream",
     "text": [
      "h0: acc(kNN) = acc(NB) \n",
      "h1: acc(kNN) > acc(NB)\n",
      "pvalue= 0.1734666237861796\n"
     ]
    }
   ],
   "source": [
    "from scipy import stats\n",
    "\n",
    "res = stats.ttest_rel(knn_accs, nb_accs, alternative='greater')\n",
    "print('h0: acc(kNN) = acc(NB) \\nh1: acc(kNN) > acc(NB)\\npvalue=', res.pvalue)"
   ]
  },
  {
   "cell_type": "markdown",
   "metadata": {},
   "source": [
    "Visto que o p-value é aproximadamente 0.17, não podemos rejeitar a hipótese nula para os valores de significância usuais (geralmente igual ou inferior a 0.05), a favor da hipótese \"kNN is statistically superior to naïve Bayes regarding accuracy\"."
   ]
  },
  {
   "cell_type": "markdown",
   "metadata": {},
   "source": [
    "2) Consider two 𝑘NN predictors with 𝑘=1 and 𝑘=5 (uniform weights, Euclidean distance, all remaining parameters as default). Plot the differences between the two cumulative confusion matrices of the predictors. Comment."
   ]
  },
  {
   "cell_type": "code",
   "execution_count": 10,
   "metadata": {},
   "outputs": [
    {
     "name": "stdout",
     "output_type": "stream",
     "text": [
      "kNN cumulative confusion matrix subtraction:\n"
     ]
    },
    {
     "data": {
      "text/html": [
       "<div>\n",
       "<style scoped>\n",
       "    .dataframe tbody tr th:only-of-type {\n",
       "        vertical-align: middle;\n",
       "    }\n",
       "\n",
       "    .dataframe tbody tr th {\n",
       "        vertical-align: top;\n",
       "    }\n",
       "\n",
       "    .dataframe thead th {\n",
       "        text-align: right;\n",
       "    }\n",
       "</style>\n",
       "<table border=\"1\" class=\"dataframe\">\n",
       "  <thead>\n",
       "    <tr style=\"text-align: right;\">\n",
       "      <th></th>\n",
       "      <th>Predicted Normal</th>\n",
       "      <th>Predicted Hernia</th>\n",
       "      <th>Predicted Spondylolisthesis</th>\n",
       "    </tr>\n",
       "  </thead>\n",
       "  <tbody>\n",
       "    <tr>\n",
       "      <th>Normal</th>\n",
       "      <td>2</td>\n",
       "      <td>-5</td>\n",
       "      <td>3</td>\n",
       "    </tr>\n",
       "    <tr>\n",
       "      <th>Hernia</th>\n",
       "      <td>2</td>\n",
       "      <td>-2</td>\n",
       "      <td>0</td>\n",
       "    </tr>\n",
       "    <tr>\n",
       "      <th>Spondylolisthesis</th>\n",
       "      <td>1</td>\n",
       "      <td>0</td>\n",
       "      <td>-1</td>\n",
       "    </tr>\n",
       "  </tbody>\n",
       "</table>\n",
       "</div>"
      ],
      "text/plain": [
       "                   Predicted Normal  Predicted Hernia  \\\n",
       "Normal                            2                -5   \n",
       "Hernia                            2                -2   \n",
       "Spondylolisthesis                 1                 0   \n",
       "\n",
       "                   Predicted Spondylolisthesis  \n",
       "Normal                                       3  \n",
       "Hernia                                       0  \n",
       "Spondylolisthesis                           -1  "
      ]
     },
     "execution_count": 10,
     "metadata": {},
     "output_type": "execute_result"
    }
   ],
   "source": [
    "from sklearn import metrics\n",
    "import numpy as np\n",
    "\n",
    "confusion_matrix_knn1 = np.array([[0,0,0], [0,0,0], [0,0,0]])\n",
    "confusion_matrix_knn5 = np.array([[0,0,0], [0,0,0], [0,0,0]])\n",
    "\n",
    "for train_k, test_k in folds.split(X, y):\n",
    "    X_train, X_test = X.iloc[train_k], X.iloc[test_k]\n",
    "    y_train, y_test = y.iloc[train_k], y.iloc[test_k]\n",
    "\n",
    "    knn_1 = KNeighborsClassifier(n_neighbors=1)\n",
    "    knn_5 = KNeighborsClassifier(n_neighbors=5)\n",
    "\n",
    "    knn_1.fit(X_train, y_train)\n",
    "    knn_5.fit(X_train, y_train)\n",
    "\n",
    "    y_knn1_pred = knn_1.predict(X_test)\n",
    "    y_knn5_pred = knn_5.predict(X_test)\n",
    "\n",
    "    confusion_matrix_knn1 = confusion_matrix_knn1 + \\\n",
    "        np.array(metrics.confusion_matrix(y_true=y_test, y_pred=y_knn1_pred, \\\n",
    "                                          labels=['Normal', 'Hernia', 'Spondylolisthesis']))\n",
    "    confusion_matrix_knn5 = confusion_matrix_knn5 + \\\n",
    "        np.array(metrics.confusion_matrix(y_true=y_test, y_pred=y_knn5_pred, \\\n",
    "                                          labels=['Normal', 'Hernia', 'Spondylolisthesis']))\n",
    "\n",
    "confusion_matrix_diff = confusion_matrix_knn1-confusion_matrix_knn5\n",
    "confusion_matrix_diff = pd.DataFrame(confusion_matrix_diff, \\\n",
    "                                    index = ['Normal', 'Hernia', 'Spondylolisthesis'], \\\n",
    "                                    columns = ['Predicted Normal', 'Predicted Hernia', 'Predicted Spondylolisthesis'])\n",
    "print(\"kNN cumulative confusion matrix subtraction:\")\n",
    "confusion_matrix_diff\n"
   ]
  },
  {
   "cell_type": "markdown",
   "metadata": {},
   "source": [
    "Ao fazemos a substração das matrizes de confusão cumulativas para o classificador kNN de k=1 com o classificador kNN de k=5, conseguimos concluir que valores negativos na substração indicam um maior número nessa célula a favor do classificador kNN de k=5, e se for positivo, a favor de kNN de k=1.\n",
    "\n",
    "Ao observarmos as colunas, conseguimos concluir que o classificador de k=1 tem a tendência de classificar mais casos como \"Normal\" e que o classificador k=5 tem a tendência de classificar mais casos como \"Hernia\". Esta tendências podem ser observadas pela errada classifcação de mais 5 casos com \"Hernia\" enquanto na realidade era \"Normal\" pelo classificador k=5, enquanto que o classificador k=1 classificou erradamente como \"Normal\" duas observações \"Hernia\" e 1 observação \"Spondylolisthesis\". Curiosamente, ambos os modelos classificaram o mesmo número de casos reais de \"Spondylolisthesis\" como \"Hernia\".\n",
    "\n",
    "No caso da classe \"Spondylolisthesis\" os classificadores possuem uma tendência semelhante ao classificar observações para esta classe enquanto se trata de uma \"Hernia\". Por outro lado, o classificador k=1 preveu mais 3 observações com esta classe que eram \"Normal\" do que o classificador k=5, enquanto que o classificador k=5 classificou corretamente uma observação a mais do que k=1 para esta classe.\n",
    "\n",
    "Para classificações corretas (True Positives), o classificador k=5 classifica mais observações corretamente que se tratam de \"Hernia\" e \"Spondylolisthesis\", enquanto que k=1 classifica corretamente mais observações do tipo \"Normal\"."
   ]
  },
  {
   "cell_type": "markdown",
   "metadata": {},
   "source": [
    "3) Considering the unique properties of column_diagnosis, identify three possible difficulties of naïve Bayes when learning from the given dataset."
   ]
  },
  {
   "cell_type": "markdown",
   "metadata": {},
   "source": [
    "Ao utilizarmos naïve Bayes, estamos a assumir independência entre as variáveis de input, o que poderá causar perda de informação se existir dependências entre elas. Neste caso, para um diagnóstico de coluna, geralmente é necessário considerar vários pontos (variáveis de input) relacionados, para se poder classificar corretamente, ou seja, neste caso perde-se informção ao usar este modelo. Este facto, junto com a assumção gaussiana, faz com que haja perda de informação, visto que o mais correto seria considerar as variáveis de imput como uma gaussiana multivariada.\n",
    "\n",
    "Para além disso, para utilizar este modelo, apenas usámos uma amostra de 310 observações, ou seja um número limitado de observações da população inteira, o que pode gerar resultados não descritivos da população que estamos a estudar, ainda por cima considerando a dimensionalidade do conjunto de dados.\n",
    "\n",
    "Para estes dados, também falta balançeamento de classes, visto que existe 150 observações de \"Spondylolisthesis\", 100 observações de \"Normal\" e 60 observações de \"Hernia\" (obtidos através da função `df.value_counts(\"class\")`). Ou seja, visto que o `sklearn.naive_bayes` utiliza um critério MAP, é criado bias através dos priors."
   ]
  },
  {
   "cell_type": "code",
   "execution_count": 8,
   "metadata": {},
   "outputs": [
    {
     "name": "stdout",
     "output_type": "stream",
     "text": [
      "class\n",
      "Spondylolisthesis    150\n",
      "Normal               100\n",
      "Hernia                60\n",
      "Name: count, dtype: int64\n"
     ]
    }
   ],
   "source": [
    "print(df.value_counts(\"class\"))"
   ]
  }
 ],
 "metadata": {
  "kernelspec": {
   "display_name": "Python 3",
   "language": "python",
   "name": "python3"
  },
  "language_info": {
   "codemirror_mode": {
    "name": "ipython",
    "version": 3
   },
   "file_extension": ".py",
   "mimetype": "text/x-python",
   "name": "python",
   "nbconvert_exporter": "python",
   "pygments_lexer": "ipython3",
   "version": "3.11.5"
  },
  "orig_nbformat": 4
 },
 "nbformat": 4,
 "nbformat_minor": 2
}
