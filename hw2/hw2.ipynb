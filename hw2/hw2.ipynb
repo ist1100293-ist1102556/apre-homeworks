{
 "cells": [
  {
   "cell_type": "markdown",
   "metadata": {},
   "source": [
    "Considering the column_diagnosis.arff dataset available at the course webpage’s homework tab.\n",
    "Using sklearn, apply a 10-fold stratified cross-validation with shuffling (random_state=0) for the\n",
    "assessment of predictive models along this section."
   ]
  },
  {
   "cell_type": "code",
   "execution_count": 2,
   "metadata": {},
   "outputs": [
    {
     "data": {
      "text/html": [
       "<div>\n",
       "<style scoped>\n",
       "    .dataframe tbody tr th:only-of-type {\n",
       "        vertical-align: middle;\n",
       "    }\n",
       "\n",
       "    .dataframe tbody tr th {\n",
       "        vertical-align: top;\n",
       "    }\n",
       "\n",
       "    .dataframe thead th {\n",
       "        text-align: right;\n",
       "    }\n",
       "</style>\n",
       "<table border=\"1\" class=\"dataframe\">\n",
       "  <thead>\n",
       "    <tr style=\"text-align: right;\">\n",
       "      <th></th>\n",
       "      <th>pelvic_incidence</th>\n",
       "      <th>pelvic_tilt</th>\n",
       "      <th>lumbar_lordosis_angle</th>\n",
       "      <th>sacral_slope</th>\n",
       "      <th>pelvic_radius</th>\n",
       "      <th>degree_spondylolisthesis</th>\n",
       "      <th>class</th>\n",
       "    </tr>\n",
       "  </thead>\n",
       "  <tbody>\n",
       "    <tr>\n",
       "      <th>0</th>\n",
       "      <td>63.027817</td>\n",
       "      <td>22.552586</td>\n",
       "      <td>39.609117</td>\n",
       "      <td>40.475232</td>\n",
       "      <td>98.672917</td>\n",
       "      <td>-0.254400</td>\n",
       "      <td>Hernia</td>\n",
       "    </tr>\n",
       "    <tr>\n",
       "      <th>1</th>\n",
       "      <td>39.056951</td>\n",
       "      <td>10.060991</td>\n",
       "      <td>25.015378</td>\n",
       "      <td>28.995960</td>\n",
       "      <td>114.405425</td>\n",
       "      <td>4.564259</td>\n",
       "      <td>Hernia</td>\n",
       "    </tr>\n",
       "    <tr>\n",
       "      <th>2</th>\n",
       "      <td>68.832021</td>\n",
       "      <td>22.218482</td>\n",
       "      <td>50.092194</td>\n",
       "      <td>46.613539</td>\n",
       "      <td>105.985135</td>\n",
       "      <td>-3.530317</td>\n",
       "      <td>Hernia</td>\n",
       "    </tr>\n",
       "    <tr>\n",
       "      <th>3</th>\n",
       "      <td>69.297008</td>\n",
       "      <td>24.652878</td>\n",
       "      <td>44.311238</td>\n",
       "      <td>44.644130</td>\n",
       "      <td>101.868495</td>\n",
       "      <td>11.211523</td>\n",
       "      <td>Hernia</td>\n",
       "    </tr>\n",
       "    <tr>\n",
       "      <th>4</th>\n",
       "      <td>49.712859</td>\n",
       "      <td>9.652075</td>\n",
       "      <td>28.317406</td>\n",
       "      <td>40.060784</td>\n",
       "      <td>108.168725</td>\n",
       "      <td>7.918501</td>\n",
       "      <td>Hernia</td>\n",
       "    </tr>\n",
       "  </tbody>\n",
       "</table>\n",
       "</div>"
      ],
      "text/plain": [
       "   pelvic_incidence  pelvic_tilt  lumbar_lordosis_angle  sacral_slope  \\\n",
       "0         63.027817    22.552586              39.609117     40.475232   \n",
       "1         39.056951    10.060991              25.015378     28.995960   \n",
       "2         68.832021    22.218482              50.092194     46.613539   \n",
       "3         69.297008    24.652878              44.311238     44.644130   \n",
       "4         49.712859     9.652075              28.317406     40.060784   \n",
       "\n",
       "   pelvic_radius  degree_spondylolisthesis   class  \n",
       "0      98.672917                 -0.254400  Hernia  \n",
       "1     114.405425                  4.564259  Hernia  \n",
       "2     105.985135                 -3.530317  Hernia  \n",
       "3     101.868495                 11.211523  Hernia  \n",
       "4     108.168725                  7.918501  Hernia  "
      ]
     },
     "execution_count": 2,
     "metadata": {},
     "output_type": "execute_result"
    }
   ],
   "source": [
    "import pandas as pd\n",
    "from scipy.io.arff import loadarff\n",
    "import sklearn\n",
    "\n",
    "data = loadarff('data/column_diagnosis.arff')\n",
    "df = pd.DataFrame(data[0])\n",
    "df['class'] = df['class'].str.decode('utf-8')\n",
    "\n",
    "X, y = df.drop('class', axis=1), df['class']\n",
    "\n",
    "df.head()"
   ]
  },
  {
   "cell_type": "markdown",
   "metadata": {},
   "source": [
    "1) Compare the performance of 𝑘NN with 𝑘 = 5 and naïve Bayes with Gaussian assumption\n",
    "(consider all remaining parameters for each classifier as sklearn’s default):"
   ]
  },
  {
   "cell_type": "code",
   "execution_count": 3,
   "metadata": {},
   "outputs": [],
   "source": [
    "from sklearn.naive_bayes import GaussianNB\n",
    "from sklearn.neighbors import KNeighborsClassifier\n",
    "\n",
    "classifiers = [\n",
    "    (\"Gaussian Naive Bayes\", GaussianNB()),\n",
    "    (\"kNN\", KNeighborsClassifier(n_neighbors=5))\n",
    "]"
   ]
  },
  {
   "cell_type": "markdown",
   "metadata": {},
   "source": [
    "a. Plot two boxplots with the folds accuracies for each classifier."
   ]
  },
  {
   "cell_type": "code",
   "execution_count": 4,
   "metadata": {},
   "outputs": [
    {
     "name": "stdout",
     "output_type": "stream",
     "text": [
      "[('Gaussian Naive Bayes', array([0.83870968, 0.87096774, 0.83870968, 0.87096774, 0.77419355,\n",
      "       0.83870968, 0.90322581, 0.80645161, 0.77419355, 0.70967742])), ('kNN', array([0.93548387, 0.80645161, 0.87096774, 0.93548387, 0.74193548,\n",
      "       0.87096774, 0.83870968, 0.83870968, 0.77419355, 0.77419355]))]\n"
     ]
    }
   ],
   "source": [
    "from sklearn.model_selection import cross_val_score, StratifiedKFold\n",
    "\n",
    "folds = StratifiedKFold(n_splits=10, shuffle=True, random_state=0)\n",
    "fold_accs = [(cls[0], cross_val_score(cls[1], X, y, cv=folds, scoring='accuracy')) for cls in classifiers]\n",
    "print(fold_accs)"
   ]
  },
  {
   "cell_type": "code",
   "execution_count": 5,
   "metadata": {},
   "outputs": [
    {
     "name": "stderr",
     "output_type": "stream",
     "text": [
      "/home/daniel/.local/lib/python3.10/site-packages/seaborn/_oldcore.py:1498: FutureWarning: is_categorical_dtype is deprecated and will be removed in a future version. Use isinstance(dtype, CategoricalDtype) instead\n",
      "  if pd.api.types.is_categorical_dtype(vector):\n",
      "/home/daniel/.local/lib/python3.10/site-packages/seaborn/_oldcore.py:1498: FutureWarning: is_categorical_dtype is deprecated and will be removed in a future version. Use isinstance(dtype, CategoricalDtype) instead\n",
      "  if pd.api.types.is_categorical_dtype(vector):\n",
      "/home/daniel/.local/lib/python3.10/site-packages/seaborn/_oldcore.py:1498: FutureWarning: is_categorical_dtype is deprecated and will be removed in a future version. Use isinstance(dtype, CategoricalDtype) instead\n",
      "  if pd.api.types.is_categorical_dtype(vector):\n"
     ]
    },
    {
     "data": {
      "text/plain": [
       "<Axes: xlabel='Classifier', ylabel='Accuracy'>"
      ]
     },
     "execution_count": 5,
     "metadata": {},
     "output_type": "execute_result"
    },
    {
     "data": {
      "image/png": "[encoded data removed]",
      "text/plain": [
       "<Figure size 640x480 with 1 Axes>"
      ]
     },
     "metadata": {},
     "output_type": "display_data"
    }
   ],
   "source": [
    "import seaborn as sns\n",
    "\n",
    "fold_accs_join = []\n",
    "for cls in fold_accs:\n",
    "    fold_accs_join.extend(list(zip([cls[0] for i in range(10)], cls[1])))\n",
    "\n",
    "fold_accs_df = pd.DataFrame(fold_accs_join, columns=['Classifier', 'Accuracy'])\n",
    "\n",
    "sns.boxplot(x='Classifier', y='Accuracy', data=fold_accs_df)"
   ]
  },
  {
   "cell_type": "markdown",
   "metadata": {},
   "source": [
    "b. Using scipy, test the hypothesis “𝑘NN is statistically superior to naïve Bayes regarding\n",
    "accuracy”, asserting whether is true."
   ]
  },
  {
   "cell_type": "code",
   "execution_count": 6,
   "metadata": {},
   "outputs": [
    {
     "name": "stdout",
     "output_type": "stream",
     "text": [
      "kNN > NB, pvalue= 0.19042809062064092\n"
     ]
    }
   ],
   "source": [
    "from scipy import stats\n",
    "\n",
    "res = stats.ttest_rel(fold_accs[1][1], fold_accs[0][1], alternative='greater')\n",
    "print('kNN > NB, pvalue=', res.pvalue)"
   ]
  },
  {
   "cell_type": "markdown",
   "metadata": {},
   "source": [
    "Visto que o valor-p é aproximadamente 0.19, não podemos rejeitar a hipótese nula para os valores de significância usuais (geralmente igual ou inferior a 0.05), a favor da hipótese \"kNN is statistically superior to naïve Bayes regarding accuracy\"."
   ]
  },
  {
   "cell_type": "markdown",
   "metadata": {},
   "source": [
    "2) Consider two 𝑘NN predictors with 𝑘=1 and 𝑘=5 (uniform weights, Euclidean distance, all remaining parameters as default). Plot the differences between the two cumulative confusion matrices of the predictors. Comment."
   ]
  },
  {
   "cell_type": "code",
   "execution_count": 30,
   "metadata": {},
   "outputs": [
    {
     "name": "stdout",
     "output_type": "stream",
     "text": [
      "kNN(N=1) cumulative confusion matrix:\n",
      "                    Predicted Normal  Predicted Hernia  \\\n",
      "Normal                           80                14   \n",
      "Hernia                           23                37   \n",
      "Spondylolisthesis                 7                 1   \n",
      "\n",
      "                   Predicted Spondylolisthesis  \n",
      "Normal                                       6  \n",
      "Hernia                                       0  \n",
      "Spondylolisthesis                          142  \n",
      "kNN(N=5) cumulative confusion matrix:\n",
      "                    Predicted Normal  Predicted Hernia  \\\n",
      "Normal                           78                19   \n",
      "Hernia                           21                39   \n",
      "Spondylolisthesis                 6                 1   \n",
      "\n",
      "                   Predicted Spondylolisthesis  \n",
      "Normal                                       3  \n",
      "Hernia                                       0  \n",
      "Spondylolisthesis                          143  \n"
     ]
    },
    {
     "data": {
      "text/plain": [
       "<Axes: >"
      ]
     },
     "execution_count": 30,
     "metadata": {},
     "output_type": "execute_result"
    },
    {
     "data": {
      "image/png": "[encoded data removed]",
      "text/plain": [
       "<Figure size 640x480 with 2 Axes>"
      ]
     },
     "metadata": {},
     "output_type": "display_data"
    }
   ],
   "source": [
    "from sklearn import metrics\n",
    "import numpy as np\n",
    "\n",
    "knn_1= KNeighborsClassifier(n_neighbors=1)\n",
    "knn_5= KNeighborsClassifier(n_neighbors=5)\n",
    "\n",
    "confusion_matrix_knn1 = np.array([[0,0,0], [0,0,0], [0,0,0]])\n",
    "confusion_matrix_knn5 = np.array([[0,0,0], [0,0,0], [0,0,0]])\n",
    "\n",
    "for train_k, test_k in folds.split(X, y):\n",
    "    X_train, X_test = X.iloc[train_k], X.iloc[test_k]\n",
    "    y_train, y_test = y.iloc[train_k], y.iloc[test_k]\n",
    "\n",
    "    knn_1.fit(X_train, y_train)\n",
    "    knn_5.fit(X_train, y_train)\n",
    "\n",
    "    y_knn1_pred = knn_1.predict(X_test)\n",
    "    y_knn5_pred = knn_5.predict(X_test)\n",
    "\n",
    "    confusion_matrix_knn1= confusion_matrix_knn1 + np.array(metrics.confusion_matrix(y_true=y_test, y_pred=y_knn1_pred, labels=['Normal', 'Hernia', 'Spondylolisthesis']))\n",
    "    confusion_matrix_knn5= confusion_matrix_knn5 + np.array(metrics.confusion_matrix(y_true=y_test, y_pred=y_knn5_pred, labels=['Normal', 'Hernia', 'Spondylolisthesis']))\n",
    "\n",
    "knn1_df = pd.DataFrame(confusion_matrix_knn1, index = ['Normal', 'Hernia', 'Spondylolisthesis'], columns = ['Predicted Normal', 'Predicted Hernia', 'Predicted Spondylolisthesis'])\n",
    "knn5_df = pd.DataFrame(confusion_matrix_knn5, index = ['Normal', 'Hernia', 'Spondylolisthesis'], columns = ['Predicted Normal', 'Predicted Hernia', 'Predicted Spondylolisthesis'])\n",
    "\n",
    "print(\"kNN(N=1) cumulative confusion matrix:\\n\", knn1_df)\n",
    "print(\"kNN(N=5) cumulative confusion matrix:\\n\", knn5_df)\n",
    "\n",
    "sns.heatmap(knn1_df-knn5_df, annot=True, fmt='g')\n",
    "\n"
   ]
  }
 ],
 "metadata": {
  "kernelspec": {
   "display_name": "Python 3",
   "language": "python",
   "name": "python3"
  },
  "language_info": {
   "codemirror_mode": {
    "name": "ipython",
    "version": 3
   },
   "file_extension": ".py",
   "mimetype": "text/x-python",
   "name": "python",
   "nbconvert_exporter": "python",
   "pygments_lexer": "ipython3",
   "version": "3.10.12"
  },
  "orig_nbformat": 4
 },
 "nbformat": 4,
 "nbformat_minor": 2
}
