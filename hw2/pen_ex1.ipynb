{
 "cells": [
  {
   "cell_type": "code",
   "execution_count": 3,
   "metadata": {},
   "outputs": [],
   "source": [
    "import pandas as pd\n",
    "\n",
    "df = pd.read_csv(\"data/ex1.csv\") # Read the whole dataset\n",
    "df = df[:7] #Remove testing observations\n",
    "\n",
    "df_a, df_b = df.loc[df.y6 == \"A\"], df.loc[df.y6 == \"B\"] # Split based on y6"
   ]
  },
  {
   "cell_type": "code",
   "execution_count": 4,
   "metadata": {},
   "outputs": [],
   "source": [
    "import numpy as np\n",
    "\n",
    "# Compute means and covariance matrixes\n",
    "mean = [df.y1.mean(), df.y2.mean()]\n",
    "cov = np.cov(df[[\"y1\", \"y2\"]].T)\n",
    "mean_a = [df_a.y1.mean(), df_a.y2.mean()]\n",
    "cov_a = np.cov(df_a[[\"y1\", \"y2\"]].T)\n",
    "mean_b = [df_b.y1.mean(), df_b.y2.mean()]\n",
    "cov_b = np.cov(df_b[[\"y1\", \"y2\"]].T)"
   ]
  },
  {
   "cell_type": "code",
   "execution_count": 5,
   "metadata": {},
   "outputs": [
    {
     "name": "stdout",
     "output_type": "stream",
     "text": [
      "0.9847047567047768\n",
      "1.96236913786286\n",
      "0.4030709859326153\n",
      "1.7285705872234585\n",
      "3.6224715484985666\n",
      "2.5388068005923157\n"
     ]
    }
   ],
   "source": [
    "from scipy import stats\n",
    "\n",
    "multnorm = stats.multivariate_normal(mean, cov)\n",
    "multnorm_a = stats.multivariate_normal(mean_a, cov_a)\n",
    "multnorm_b = stats.multivariate_normal(mean_b, cov_b)\n",
    "\n",
    "print(multnorm_a.pdf([0.38,0.52]))\n",
    "print(multnorm_b.pdf([0.38,0.52]))\n",
    "print(multnorm_a.pdf([0.42,0.59]))\n",
    "print(multnorm_b.pdf([0.42,0.59]))\n",
    "\n",
    "print(multnorm.pdf([0.38, 0.52]))\n",
    "print(multnorm.pdf([0.42, 0.59]))"
   ]
  }
 ],
 "metadata": {
  "kernelspec": {
   "display_name": "Python 3",
   "language": "python",
   "name": "python3"
  },
  "language_info": {
   "codemirror_mode": {
    "name": "ipython",
    "version": 3
   },
   "file_extension": ".py",
   "mimetype": "text/x-python",
   "name": "python",
   "nbconvert_exporter": "python",
   "pygments_lexer": "ipython3",
   "version": "3.11.5"
  },
  "orig_nbformat": 4
 },
 "nbformat": 4,
 "nbformat_minor": 2
}
