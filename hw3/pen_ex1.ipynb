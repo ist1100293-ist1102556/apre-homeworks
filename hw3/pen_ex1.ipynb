{
 "cells": [
  {
   "cell_type": "code",
   "execution_count": 23,
   "metadata": {},
   "outputs": [
    {
     "data": {
      "text/plain": [
       "array([[1.        , 0.74826357, 0.74826357, 0.10126646],\n",
       "       [1.        , 0.81464732, 0.27117254, 0.33121088],\n",
       "       [1.        , 0.71177032, 0.09632764, 0.71177032],\n",
       "       [1.        , 0.8824969 , 0.16121764, 0.65376979]])"
      ]
     },
     "execution_count": 23,
     "metadata": {},
     "output_type": "execute_result"
    }
   ],
   "source": [
    "import numpy as np\n",
    "\n",
    "data = np.array([[0.7, -0.3], [0.4, 0.5], [-0.2, 0.8], [-0.4, 0.3]])\n",
    "\n",
    "def rbf(x):\n",
    "    basis = [[0, 0], [1, -1], [-1, 1]]\n",
    "    distances = np.array([np.linalg.norm(x-k) for k in basis])\n",
    "    return list(np.exp(-(distances**2)/2))\n",
    "\n",
    "X = np.array([[1]+rbf(d) for d in data]) # Add 1's in first collumn to multiply with bias\n",
    "Z = np.array([0.8, 0.6, 0.3, 0.3])\n",
    "lam = 0.1\n",
    "X"
   ]
  },
  {
   "cell_type": "code",
   "execution_count": 26,
   "metadata": {},
   "outputs": [
    {
     "data": {
      "text/plain": [
       "array([[1.        , 1.        , 1.        , 1.        ],\n",
       "       [0.74826357, 0.81464732, 0.71177032, 0.8824969 ],\n",
       "       [0.74826357, 0.27117254, 0.09632764, 0.16121764],\n",
       "       [0.10126646, 0.33121088, 0.71177032, 0.65376979]])"
      ]
     },
     "execution_count": 26,
     "metadata": {},
     "output_type": "execute_result"
    }
   ],
   "source": [
    "W = np.linalg.inv((X.T)@X + lam*np.identity(4)) @ X.T @ Z\n",
    "X.T"
   ]
  },
  {
   "cell_type": "code",
   "execution_count": 25,
   "metadata": {},
   "outputs": [
    {
     "data": {
      "text/plain": [
       "array([0.75843541, 0.51231759, 0.3090472 , 0.38628554])"
      ]
     },
     "execution_count": 25,
     "metadata": {},
     "output_type": "execute_result"
    }
   ],
   "source": [
    "W @ X.T"
   ]
  }
 ],
 "metadata": {
  "kernelspec": {
   "display_name": "Python 3",
   "language": "python",
   "name": "python3"
  },
  "language_info": {
   "codemirror_mode": {
    "name": "ipython",
    "version": 3
   },
   "file_extension": ".py",
   "mimetype": "text/x-python",
   "name": "python",
   "nbconvert_exporter": "python",
   "pygments_lexer": "ipython3",
   "version": "3.11.5"
  },
  "orig_nbformat": 4
 },
 "nbformat": 4,
 "nbformat_minor": 2
}
