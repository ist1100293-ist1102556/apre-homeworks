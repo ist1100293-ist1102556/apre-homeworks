{
 "cells": [
  {
   "cell_type": "code",
   "execution_count": 1,
   "metadata": {},
   "outputs": [],
   "source": [
    "import numpy as np\n",
    "\n",
    "w1_init = np.array([[1, 1, 1, 1], [1, 1, 2, 1], [1, 1, 1, 1]])\n",
    "b1_init = np.array([[1], [1], [1]])\n",
    "w2_init = np.array([[1, 4, 1], [1, 1, 1]])\n",
    "b2_init = np.array([[1], [1]])\n",
    "w3_init = np.array([[1, 1], [3, 1], [1, 1]])\n",
    "b3_init = np.array([[1], [1], [1]])\n",
    "\n",
    "activation_function = lambda x: np.tanh(0.5*x - 2)\n",
    "activation_derivative = lambda x: 0.5 - 0.5*(np.tanh(0.5*x - 2))**2\n",
    "\n",
    "error_derivative = lambda t, o: -(t-o)\n",
    "\n",
    "x1 = np.array([[1], [1], [1], [1]])\n",
    "x2 = np.array([[1], [0], [0], [-1]])\n",
    "\n",
    "t1 = np.array([[-1], [1], [-1]])\n",
    "t2 = np.array([[1], [-1], [-1]])\n",
    "\n",
    "learning_rate = 0.1"
   ]
  },
  {
   "cell_type": "code",
   "execution_count": 2,
   "metadata": {},
   "outputs": [],
   "source": [
    "def forward_prop(x0, w1, b1, w2, b2, w3, b3, activation, i=6):\n",
    "    # Layer 1\n",
    "    z1 = w1@x0 + b1\n",
    "    x1 = activation(z1)\n",
    "\n",
    "    # Layer 2\n",
    "    z2 = w2@x1 + b2\n",
    "    x2 = activation(z2)\n",
    "\n",
    "    # Layer 3\n",
    "    z3 = w3@x2 + b3\n",
    "    x3 = activation(z3)\n",
    "    outputs = [x0, z1, x1, z2, x2, z3, x3]\n",
    "    return outputs[i]"
   ]
  },
  {
   "cell_type": "code",
   "execution_count": 3,
   "metadata": {},
   "outputs": [],
   "source": [
    "forward_prop_init = lambda x, i: forward_prop(x, w1_init, b1_init, w2_init, b2_init, w3_init, b3_init, activation_function, i=i)"
   ]
  },
  {
   "cell_type": "code",
   "execution_count": 4,
   "metadata": {},
   "outputs": [
    {
     "name": "stdout",
     "output_type": "stream",
     "text": [
      "[[-0.91590016]\n",
      " [-0.80493961]\n",
      " [-0.91590016]]\n",
      "[[-0.98652085]\n",
      " [-0.9981635 ]\n",
      " [-0.98652085]]\n"
     ]
    }
   ],
   "source": [
    "print(forward_prop_init(x1, 6))\n",
    "print(forward_prop_init(x2, 6)) # Sacar os resultados intermedios"
   ]
  },
  {
   "cell_type": "code",
   "execution_count": 5,
   "metadata": {},
   "outputs": [
    {
     "data": {
      "text/plain": [
       "array([[-1.66619254e-05],\n",
       "       [-1.97816249e-05],\n",
       "       [-1.66619254e-05]])"
      ]
     },
     "execution_count": 5,
     "metadata": {},
     "output_type": "execute_result"
    }
   ],
   "source": [
    "delta_3_1 = error_derivative(t1, forward_prop_init(x1, 6))*activation_derivative(forward_prop_init(x1, 5))\n",
    "delta_2_1 = w3_init.T@delta_3_1*activation_derivative(forward_prop_init(x1, 3))\n",
    "delta_1_1 = w2_init.T@delta_2_1*activation_derivative(forward_prop_init(x1, 1))\n",
    "\n",
    "delta_3_2 = error_derivative(t2, forward_prop_init(x2, 6))*activation_derivative(forward_prop_init(x2, 5))\n",
    "delta_2_2 = w3_init.T@delta_3_2*activation_derivative(forward_prop_init(x2, 3))\n",
    "delta_1_2 = w2_init.T@delta_2_2*activation_derivative(forward_prop_init(x2, 1))\n",
    "\n",
    "delta_1_2"
   ]
  },
  {
   "cell_type": "code",
   "execution_count": 6,
   "metadata": {},
   "outputs": [
    {
     "name": "stdout",
     "output_type": "stream",
     "text": [
      "[[-0.18719036]\n",
      " [-0.33587187]\n",
      " [-0.18719036]]\n"
     ]
    }
   ],
   "source": [
    "w3_new = w3_init - learning_rate*(delta_3_1@(forward_prop_init(x1, 4)).T + delta_3_2@(forward_prop_init(x2, 4)).T)\n",
    "w2_new = w2_init - learning_rate*(delta_2_1@(forward_prop_init(x1, 2)).T + delta_2_2@(forward_prop_init(x2, 2)).T)\n",
    "w1_new = w1_init - learning_rate*(delta_1_1@(forward_prop_init(x1, 0)).T + delta_1_2@(forward_prop_init(x2, 0)).T)\n",
    "\n",
    "b3_new = b3_init - learning_rate*(delta_3_1 + delta_3_2)\n",
    "b2_new = b2_init - learning_rate*(delta_2_1 + delta_2_2)\n",
    "b1_new = b1_init - learning_rate*(delta_1_1 + delta_1_2)\n",
    "\n",
    "print(delta_1_1)\n"
   ]
  }
 ],
 "metadata": {
  "kernelspec": {
   "display_name": "Python 3",
   "language": "python",
   "name": "python3"
  },
  "language_info": {
   "codemirror_mode": {
    "name": "ipython",
    "version": 3
   },
   "file_extension": ".py",
   "mimetype": "text/x-python",
   "name": "python",
   "nbconvert_exporter": "python",
   "pygments_lexer": "ipython3",
   "version": "3.11.5"
  }
 },
 "nbformat": 4,
 "nbformat_minor": 2
}
