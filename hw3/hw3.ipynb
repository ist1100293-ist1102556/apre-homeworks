{
 "cells": [
  {
   "cell_type": "markdown",
   "metadata": {},
   "source": [
    "Consider the winequality-red.csv dataset (available at the webpage) where the goal is to estimate\n",
    "the quality (sensory appreciation) of a wine based on physicochemical inputs.\n",
    "Using a 80-20 training-test split with a fixed seed (random_state=0), you are asked to learn MLP\n",
    "regressors to answer the following questions.\n",
    "Given their stochastic behavior, average the performance of each MLP from 10 runs\n",
    "(for reproducibility consider seeding the MLPs with random_state ∈ {1. .10})."
   ]
  },
  {
   "cell_type": "code",
   "execution_count": 33,
   "metadata": {},
   "outputs": [],
   "source": [
    "import pandas as pd\n",
    "\n",
    "df = pd.read_csv('data/winequality-red.csv', sep=';')\n",
    "X, y = df.drop('quality', axis=1), df['quality']"
   ]
  },
  {
   "cell_type": "markdown",
   "metadata": {},
   "source": [
    "1) [3.5v] Learn a MLP regressor with 2 hidden layers of size 10, rectifier linear unit activation\n",
    "on all nodes, and early stopping with 20% of training data set aside for validation. All\n",
    "remaining parameters (e.g., loss, batch size, regularization term, solver) should be set as\n",
    "default. Plot the distribution of the residues (in absolute value) using a histogram."
   ]
  },
  {
   "cell_type": "code",
   "execution_count": 28,
   "metadata": {},
   "outputs": [],
   "source": [
    "from sklearn.model_selection import train_test_split\n",
    "from sklearn.neural_network import MLPRegressor\n",
    "import numpy as np\n",
    "\n",
    "X_train, X_test, y_train, y_test = train_test_split(X, y, train_size=0.8, random_state=0)\n",
    "\n",
    "# Not converging with the 200 default iterations (had to make it bigger)\n",
    "regressors = [MLPRegressor(hidden_layer_sizes=(10, 10), activation='relu', early_stopping=True, validation_fraction=0.2, random_state=k, max_iter=500) for k in range(1, 11)]\n",
    "\n",
    "for r in regressors:\n",
    "    r.fit(X_train, y_train)\n",
    "\n",
    "y_test_pred = [r.predict(X_test) for r in regressors]\n",
    "y_test_pred = list(zip(y_test_pred[0], y_test_pred[1], y_test_pred[2], y_test_pred[3], y_test_pred[4], y_test_pred[5], y_test_pred[6], y_test_pred[7], y_test_pred[8], y_test_pred[9]))\n",
    "\n",
    "y_test_pred = [sum(k)/len(k) for k in y_test_pred]\n",
    "\n",
    "residues = np.abs(np.array(y_test_pred)-np.array(y_test))"
   ]
  },
  {
   "cell_type": "code",
   "execution_count": 30,
   "metadata": {},
   "outputs": [
    {
     "data": {
      "image/png": "[encoded data removed]",
      "text/plain": [
       "<Figure size 311.111x300 with 1 Axes>"
      ]
     },
     "metadata": {},
     "output_type": "display_data"
    }
   ],
   "source": [
    "import seaborn as sns\n",
    "import matplotlib.pyplot as plt\n",
    "\n",
    "plot_df = pd.DataFrame(residues, columns=[\"Residue\"])\n",
    "plot=sns.FacetGrid(plot_df)\n",
    "plot.map(sns.histplot, \"Residue\", binwidth=0.25).add_legend()\n",
    "plt.show()"
   ]
  },
  {
   "cell_type": "markdown",
   "metadata": {},
   "source": [
    "2) [1.5v] Since we are in the presence of a integer regression task, a recommended trick is to\n",
    "round and bound estimates. Assess the impact of these operations on the MAE of the MLP\n",
    "learnt in previous question."
   ]
  },
  {
   "cell_type": "code",
   "execution_count": 35,
   "metadata": {},
   "outputs": [
    {
     "data": {
      "text/plain": [
       "(0.4873681321254506, 0.4125)"
      ]
     },
     "execution_count": 35,
     "metadata": {},
     "output_type": "execute_result"
    }
   ],
   "source": [
    "from sklearn.metrics import mean_absolute_error\n",
    "\n",
    "def round_and_bound(x):\n",
    "    if x <= 0:\n",
    "        return 0\n",
    "    if x >= 10:\n",
    "        return 10\n",
    "    \n",
    "    return np.round(x)\n",
    "\n",
    "y_test_pred_round = [round_and_bound(y) for y in y_test_pred]\n",
    "\n",
    "original_mae = mean_absolute_error(y_test, y_test_pred)\n",
    "new_mae = mean_absolute_error(y_test, y_test_pred_round)\n",
    "\n",
    "(original_mae, new_mae) # Ask teacher if needs comment"
   ]
  }
 ],
 "metadata": {
  "kernelspec": {
   "display_name": "Python 3",
   "language": "python",
   "name": "python3"
  },
  "language_info": {
   "codemirror_mode": {
    "name": "ipython",
    "version": 3
   },
   "file_extension": ".py",
   "mimetype": "text/x-python",
   "name": "python",
   "nbconvert_exporter": "python",
   "pygments_lexer": "ipython3",
   "version": "3.11.5"
  },
  "orig_nbformat": 4
 },
 "nbformat": 4,
 "nbformat_minor": 2
}
