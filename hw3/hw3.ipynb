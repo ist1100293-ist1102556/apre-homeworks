{
 "cells": [
  {
   "cell_type": "markdown",
   "metadata": {},
   "source": [
    "Consider the winequality-red.csv dataset (available at the webpage) where the goal is to estimate\n",
    "the quality (sensory appreciation) of a wine based on physicochemical inputs.\n",
    "Using a 80-20 training-test split with a fixed seed (random_state=0), you are asked to learn MLP\n",
    "regressors to answer the following questions.\n",
    "Given their stochastic behavior, average the performance of each MLP from 10 runs\n",
    "(for reproducibility consider seeding the MLPs with random_state ∈ {1. .10})."
   ]
  },
  {
   "cell_type": "code",
   "execution_count": 37,
   "metadata": {},
   "outputs": [],
   "source": [
    "from warnings import simplefilter\n",
    "from sklearn.exceptions import ConvergenceWarning\n",
    "\n",
    "simplefilter(\"ignore\", category=ConvergenceWarning)"
   ]
  },
  {
   "cell_type": "code",
   "execution_count": 38,
   "metadata": {},
   "outputs": [],
   "source": [
    "import pandas as pd\n",
    "\n",
    "df = pd.read_csv('data/winequality-red.csv', sep=';')\n",
    "X, y = df.drop('quality', axis=1), df['quality']"
   ]
  },
  {
   "cell_type": "markdown",
   "metadata": {},
   "source": [
    "1) [3.5v] Learn a MLP regressor with 2 hidden layers of size 10, rectifier linear unit activation\n",
    "on all nodes, and early stopping with 20% of training data set aside for validation. All\n",
    "remaining parameters (e.g., loss, batch size, regularization term, solver) should be set as\n",
    "default. Plot the distribution of the residues (in absolute value) using a histogram."
   ]
  },
  {
   "cell_type": "code",
   "execution_count": 39,
   "metadata": {},
   "outputs": [],
   "source": [
    "from sklearn.model_selection import train_test_split\n",
    "from sklearn.neural_network import MLPRegressor\n",
    "import numpy as np\n",
    "\n",
    "X_train, X_test, y_train, y_test = train_test_split(X, y, train_size=0.8, random_state=0)\n",
    "\n",
    "# Not converging with the 200 default iterations (had to make it bigger)\n",
    "regressors = [MLPRegressor(hidden_layer_sizes=(10, 10), activation='relu', early_stopping=True,\n",
    "                           validation_fraction=0.2, random_state=k) for k in range(1, 11)]\n",
    "\n",
    "for r in regressors:\n",
    "    r.fit(X_train, y_train)\n",
    "\n",
    "y_test_pred = [r.predict(X_test) for r in regressors]\n",
    "residues = [np.abs(np.array(x)-np.array(y_test)) for x in y_test_pred]\n",
    "residues = [y for x in residues for y in x]"
   ]
  },
  {
   "cell_type": "code",
   "execution_count": 40,
   "metadata": {},
   "outputs": [
    {
     "data": {
      "image/png": "[encoded data removed]",
      "text/plain": [
       "<Figure size 311.111x300 with 1 Axes>"
      ]
     },
     "metadata": {},
     "output_type": "display_data"
    }
   ],
   "source": [
    "import seaborn as sns\n",
    "import matplotlib.pyplot as plt\n",
    "\n",
    "plot_df = pd.DataFrame(residues, columns=[\"Residue\"])\n",
    "plot=sns.FacetGrid(plot_df)\n",
    "plot.map(sns.histplot, \"Residue\", binwidth=0.25).add_legend()\n",
    "plt.show()"
   ]
  },
  {
   "cell_type": "markdown",
   "metadata": {},
   "source": [
    "2) [1.5v] Since we are in the presence of a integer regression task, a recommended trick is to\n",
    "round and bound estimates. Assess the impact of these operations on the MAE of the MLP\n",
    "learnt in previous question."
   ]
  },
  {
   "cell_type": "code",
   "execution_count": 41,
   "metadata": {},
   "outputs": [
    {
     "name": "stdout",
     "output_type": "stream",
     "text": [
      "Original MAE:  0.5097171955009515\n",
      "Round and Bound MAE:  0.43875000000000003\n"
     ]
    }
   ],
   "source": [
    "from sklearn.metrics import mean_absolute_error\n",
    "\n",
    "def round_and_bound(x):\n",
    "    if x <= 1:\n",
    "        return 1\n",
    "    if x >= 10:\n",
    "        return 10\n",
    "    \n",
    "    return np.round(x)\n",
    "\n",
    "y_test_pred_round = [[round_and_bound(y) for y in z] for z in y_test_pred]\n",
    "\n",
    "original_maes = [mean_absolute_error(y_test, pred) for pred in y_test_pred]\n",
    "new_maes = [mean_absolute_error(y_test, pred) for pred in y_test_pred_round]\n",
    "\n",
    "original_mae = sum(original_maes)/len(original_maes)\n",
    "new_mae = sum(new_maes)/len(new_maes)\n",
    "\n",
    "print(\"Original MAE: \", original_mae)\n",
    "print(\"Round and Bound MAE: \", new_mae)"
   ]
  },
  {
   "cell_type": "markdown",
   "metadata": {},
   "source": [
    "Rounding and bounding seems to decrease the MAE since all of the expected values are integers, meaning that small error created by the prediction will be removed, resulting in a smaller average error."
   ]
  },
  {
   "cell_type": "markdown",
   "metadata": {},
   "source": [
    "3) [1.5v] Similarly assess the impact on RMSE from replacing early stopping by a well-defined\n",
    "number of iterations in {20,50,100,200} (where one iteration corresponds to a batch)."
   ]
  },
  {
   "cell_type": "code",
   "execution_count": 42,
   "metadata": {},
   "outputs": [
    {
     "name": "stdout",
     "output_type": "stream",
     "text": [
      "With early stopping:  0.6706527958221328\n",
      "With 20, 50, 100, 200 iterations:  [1.403978950992544, 0.7996073631460566, 0.6940361469112144, 0.6554543932216477]\n"
     ]
    }
   ],
   "source": [
    "from sklearn.metrics import mean_squared_error\n",
    "\n",
    "new_regressors = [[MLPRegressor(hidden_layer_sizes=(10, 10), activation='relu', random_state=k, max_iter=n) \n",
    "                   for k in range(1, 11)] for n in [20, 50, 100, 200]]\n",
    "\n",
    "for r in new_regressors:\n",
    "    for k in r:\n",
    "        k.fit(X_train, y_train)\n",
    "\n",
    "original_rmses = [np.sqrt(mean_squared_error(y_test, pred)) for pred in y_test_pred]\n",
    "original_rmse = sum(original_rmses)/len(original_rmses)\n",
    "\n",
    "new_predictions = [[x.predict(X_test) for x in iter] for iter in new_regressors]\n",
    "new_predictions_rmses = [[np.sqrt(mean_squared_error(y_test, pred)) for pred in iter] for iter in new_predictions]\n",
    "new_predictions_rmse = [sum(iter)/len(iter) for iter in new_predictions_rmses]\n",
    "\n",
    "print(\"With early stopping: \", original_rmse)\n",
    "print(\"With 20, 50, 100, 200 iterations: \", new_predictions_rmse)"
   ]
  },
  {
   "cell_type": "markdown",
   "metadata": {},
   "source": [
    "4) [1.5v] Critically comment the results obtained in previous question, hypothesizing at least\n",
    "one reason why early stopping favors and/or worsens performance."
   ]
  },
  {
   "cell_type": "markdown",
   "metadata": {},
   "source": [
    "The early stopping mechanism avoids underfitting and overfitting, since early stopping uses a portion of the training data (validation data) and stops when the error starts increasing. This avoids underfitting since it avoids being stuck on local minima (since this implementation uses the early stopping together with stochastic gradient descent), that's the reason why the early stopping RMSE is lower than the lower end of fixed iteration numbers (20, 50, 100). It also avoids overfitting since it trains using a certain set while validating with another. Although, since the validation and the testing data sets are different, there isn't a guarantee that early stopping will grant the best score for the testing data (it's possible that the validation data doesn't represent the population, meaning that it will be impossible to generalize). This means that it is possible that the RMSE of the early stopping model is higher than the RMSE of a model with a specific number of iterations."
   ]
  }
 ],
 "metadata": {
  "kernelspec": {
   "display_name": "Python 3",
   "language": "python",
   "name": "python3"
  },
  "language_info": {
   "codemirror_mode": {
    "name": "ipython",
    "version": 3
   },
   "file_extension": ".py",
   "mimetype": "text/x-python",
   "name": "python",
   "nbconvert_exporter": "python",
   "pygments_lexer": "ipython3",
   "version": "3.11.5"
  },
  "orig_nbformat": 4
 },
 "nbformat": 4,
 "nbformat_minor": 2
}
